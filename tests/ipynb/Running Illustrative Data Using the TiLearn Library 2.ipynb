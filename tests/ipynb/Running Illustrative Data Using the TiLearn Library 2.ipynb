{
 "cells": [
  {
   "cell_type": "markdown",
   "metadata": {},
   "source": [
    "# Introduction to the TiLearn Library"
   ]
  },
  {
   "cell_type": "markdown",
   "metadata": {},
   "source": [
    "TiLearn /taɪˈlɜrn/ is a combination of “Time” and “Machine Learning.” The library was built with the initial goal of automating the process of evaluating job weights ($w_j$) and improving the branching process (Learning to Branch) through machine learning methods.\n",
    "\n",
    "The source code has been uploaded to GitHub, and the link is provided below.\n",
    "\n",
    "GitHub link: [https://github.com/Bancie/TiLearn](https://github.com/Bancie/TiLearn)"
   ]
  },
  {
   "cell_type": "markdown",
   "metadata": {},
   "source": [
    "The library has also been published on PyPI and can be easily downloaded and used.\n",
    "\n",
    "Link: [https://pypi.org/project/TiLearn/](https://pypi.org/project/TiLearn/)"
   ]
  },
  {
   "cell_type": "markdown",
   "metadata": {},
   "source": [
    "Additionally, the document site is designed to provide usage guides, instructions on how to run the library, and how it works.\n",
    "\n",
    "Documentation link: [https://bancie.github.io/TiLearn/](https://bancie.github.io/TiLearn/)"
   ]
  },
  {
   "cell_type": "markdown",
   "metadata": {},
   "source": [
    "The library currently supports the following features:\n",
    "\n",
    "- A function for running the EDD algorithm.\n",
    "\n",
    "- A function for running the WSPT algorithm.\n",
    "\n",
    "- A function for solving the problem $1||\\sum C_j$.\n",
    "\n",
    "- A function for solving the problem $1||\\sum w_j C_j$.\n",
    "\n",
    "- A function for solving the problem $1|prec|\\sum C_j$.\n",
    "\n",
    "- A function for solving the problem $1|prec|\\sum w_j C_j$.\n",
    "\n",
    "- A function for handling a mixture of both $1|prec|\\sum w_j C_j$ and $1||\\sum w_j C_j$ problems."
   ]
  },
  {
   "cell_type": "markdown",
   "metadata": {},
   "source": [
    "Detailed guides on how to use these functions, including parameters and the meaning of each parameter, will be updated on the [documentation site](https://bancie.github.io/TiLearn/)."
   ]
  },
  {
   "cell_type": "markdown",
   "metadata": {},
   "source": [
    "To use the library, it can be installed with the following command"
   ]
  },
  {
   "cell_type": "code",
   "execution_count": 1,
   "metadata": {},
   "outputs": [
    {
     "name": "stdout",
     "output_type": "stream",
     "text": [
      "Requirement already satisfied: tilearn in /Users/chibangnguyen/.pyenv/versions/3.13.7/lib/python3.13/site-packages (1.0.0)\n",
      "Note: you may need to restart the kernel to use updated packages.\n"
     ]
    }
   ],
   "source": [
    "%pip install tilearn"
   ]
  },
  {
   "cell_type": "markdown",
   "metadata": {},
   "source": [
    "Some supporting libraries for analysis"
   ]
  },
  {
   "cell_type": "code",
   "execution_count": 2,
   "metadata": {},
   "outputs": [
    {
     "name": "stdout",
     "output_type": "stream",
     "text": [
      "Requirement already satisfied: pandas in /Users/chibangnguyen/.pyenv/versions/3.13.7/lib/python3.13/site-packages (2.3.2)\n",
      "Requirement already satisfied: numpy>=1.26.0 in /Users/chibangnguyen/.pyenv/versions/3.13.7/lib/python3.13/site-packages (from pandas) (2.3.2)\n",
      "Requirement already satisfied: python-dateutil>=2.8.2 in /Users/chibangnguyen/.pyenv/versions/3.13.7/lib/python3.13/site-packages (from pandas) (2.9.0.post0)\n",
      "Requirement already satisfied: pytz>=2020.1 in /Users/chibangnguyen/.pyenv/versions/3.13.7/lib/python3.13/site-packages (from pandas) (2025.2)\n",
      "Requirement already satisfied: tzdata>=2022.7 in /Users/chibangnguyen/.pyenv/versions/3.13.7/lib/python3.13/site-packages (from pandas) (2025.2)\n",
      "Requirement already satisfied: six>=1.5 in /Users/chibangnguyen/.pyenv/versions/3.13.7/lib/python3.13/site-packages (from python-dateutil>=2.8.2->pandas) (1.17.0)\n",
      "Note: you may need to restart the kernel to use updated packages.\n",
      "Requirement already satisfied: ipython in /Users/chibangnguyen/.pyenv/versions/3.13.7/lib/python3.13/site-packages (9.5.0)\n",
      "Requirement already satisfied: decorator in /Users/chibangnguyen/.pyenv/versions/3.13.7/lib/python3.13/site-packages (from ipython) (5.2.1)\n",
      "Requirement already satisfied: ipython-pygments-lexers in /Users/chibangnguyen/.pyenv/versions/3.13.7/lib/python3.13/site-packages (from ipython) (1.1.1)\n",
      "Requirement already satisfied: jedi>=0.16 in /Users/chibangnguyen/.pyenv/versions/3.13.7/lib/python3.13/site-packages (from ipython) (0.19.2)\n",
      "Requirement already satisfied: matplotlib-inline in /Users/chibangnguyen/.pyenv/versions/3.13.7/lib/python3.13/site-packages (from ipython) (0.1.7)\n",
      "Requirement already satisfied: pexpect>4.3 in /Users/chibangnguyen/.pyenv/versions/3.13.7/lib/python3.13/site-packages (from ipython) (4.9.0)\n",
      "Requirement already satisfied: prompt_toolkit<3.1.0,>=3.0.41 in /Users/chibangnguyen/.pyenv/versions/3.13.7/lib/python3.13/site-packages (from ipython) (3.0.52)\n",
      "Requirement already satisfied: pygments>=2.4.0 in /Users/chibangnguyen/.pyenv/versions/3.13.7/lib/python3.13/site-packages (from ipython) (2.19.2)\n",
      "Requirement already satisfied: stack_data in /Users/chibangnguyen/.pyenv/versions/3.13.7/lib/python3.13/site-packages (from ipython) (0.6.3)\n",
      "Requirement already satisfied: traitlets>=5.13.0 in /Users/chibangnguyen/.pyenv/versions/3.13.7/lib/python3.13/site-packages (from ipython) (5.14.3)\n",
      "Requirement already satisfied: wcwidth in /Users/chibangnguyen/.pyenv/versions/3.13.7/lib/python3.13/site-packages (from prompt_toolkit<3.1.0,>=3.0.41->ipython) (0.2.13)\n",
      "Requirement already satisfied: parso<0.9.0,>=0.8.4 in /Users/chibangnguyen/.pyenv/versions/3.13.7/lib/python3.13/site-packages (from jedi>=0.16->ipython) (0.8.5)\n",
      "Requirement already satisfied: ptyprocess>=0.5 in /Users/chibangnguyen/.pyenv/versions/3.13.7/lib/python3.13/site-packages (from pexpect>4.3->ipython) (0.7.0)\n",
      "Requirement already satisfied: executing>=1.2.0 in /Users/chibangnguyen/.pyenv/versions/3.13.7/lib/python3.13/site-packages (from stack_data->ipython) (2.2.1)\n",
      "Requirement already satisfied: asttokens>=2.1.0 in /Users/chibangnguyen/.pyenv/versions/3.13.7/lib/python3.13/site-packages (from stack_data->ipython) (3.0.0)\n",
      "Requirement already satisfied: pure-eval in /Users/chibangnguyen/.pyenv/versions/3.13.7/lib/python3.13/site-packages (from stack_data->ipython) (0.2.3)\n",
      "Note: you may need to restart the kernel to use updated packages.\n",
      "Requirement already satisfied: jinja2 in /Users/chibangnguyen/.pyenv/versions/3.13.7/lib/python3.13/site-packages (3.1.6)\n",
      "Requirement already satisfied: MarkupSafe>=2.0 in /Users/chibangnguyen/.pyenv/versions/3.13.7/lib/python3.13/site-packages (from jinja2) (3.0.2)\n",
      "Note: you may need to restart the kernel to use updated packages.\n"
     ]
    }
   ],
   "source": [
    "%pip install pandas\n",
    "%pip install ipython\n",
    "%pip install jinja2"
   ]
  },
  {
   "cell_type": "markdown",
   "metadata": {},
   "source": [
    "Declare the main library"
   ]
  },
  {
   "cell_type": "code",
   "execution_count": 3,
   "metadata": {},
   "outputs": [],
   "source": [
    "import tilearn as tl\n",
    "from tilearn import _plat as pl"
   ]
  },
  {
   "cell_type": "markdown",
   "metadata": {},
   "source": [
    "Some supporting libraries for data analysis"
   ]
  },
  {
   "cell_type": "code",
   "execution_count": 4,
   "metadata": {},
   "outputs": [],
   "source": [
    "import csv\n",
    "import pandas as pd\n",
    "from IPython.display import display\n",
    "import matplotlib.pyplot as plt"
   ]
  },
  {
   "cell_type": "markdown",
   "metadata": {},
   "source": [
    "# Running Illustrative Data Using TiLearn"
   ]
  },
  {
   "cell_type": "markdown",
   "metadata": {},
   "source": [
    "Suppose we need to process the following three lists"
   ]
  },
  {
   "cell_type": "markdown",
   "metadata": {},
   "source": [
    "- List 1:"
   ]
  },
  {
   "cell_type": "code",
   "execution_count": 5,
   "metadata": {},
   "outputs": [
    {
     "data": {
      "application/vnd.microsoft.datawrangler.viewer.v0+json": {
       "columns": [
        {
         "name": "index",
         "rawType": "int64",
         "type": "integer"
        },
        {
         "name": "Name",
         "rawType": "object",
         "type": "string"
        },
        {
         "name": "p",
         "rawType": "int64",
         "type": "integer"
        },
        {
         "name": "r",
         "rawType": "int64",
         "type": "integer"
        },
        {
         "name": "d",
         "rawType": "int64",
         "type": "integer"
        },
        {
         "name": "w",
         "rawType": "float64",
         "type": "float"
        }
       ],
       "ref": "a7e6119c-e32b-4b75-89ea-1e49f7d4f8b4",
       "rows": [
        [
         "0",
         "Job 1",
         "4",
         "0",
         "100",
         "0.65"
        ],
        [
         "1",
         "Job 2",
         "1",
         "0",
         "100",
         "0.84"
        ],
        [
         "2",
         "Job 3",
         "3",
         "0",
         "100",
         "0.46"
        ],
        [
         "3",
         "Job 4",
         "3",
         "0",
         "100",
         "0.79"
        ],
        [
         "4",
         "Job 5",
         "1",
         "0",
         "100",
         "0.17"
        ],
        [
         "5",
         "Job 6",
         "3",
         "0",
         "100",
         "0.5"
        ],
        [
         "6",
         "Job 7",
         "4",
         "0",
         "100",
         "0.95"
        ],
        [
         "7",
         "Job 8",
         "2",
         "0",
         "100",
         "0.14"
        ],
        [
         "8",
         "Job 9",
         "5",
         "0",
         "100",
         "0.52"
        ],
        [
         "9",
         "Job 10",
         "2",
         "0",
         "100",
         "0.4"
        ],
        [
         "10",
         "Job 11",
         "4",
         "0",
         "100",
         "0.55"
        ],
        [
         "11",
         "Job 12",
         "1",
         "0",
         "100",
         "0.39"
        ],
        [
         "12",
         "Job 13",
         "2",
         "0",
         "100",
         "0.57"
        ],
        [
         "13",
         "Job 14",
         "1",
         "0",
         "100",
         "0.9"
        ],
        [
         "14",
         "Job 15",
         "1",
         "0",
         "100",
         "0.22"
        ]
       ],
       "shape": {
        "columns": 5,
        "rows": 15
       }
      },
      "text/html": [
       "<div>\n",
       "<style scoped>\n",
       "    .dataframe tbody tr th:only-of-type {\n",
       "        vertical-align: middle;\n",
       "    }\n",
       "\n",
       "    .dataframe tbody tr th {\n",
       "        vertical-align: top;\n",
       "    }\n",
       "\n",
       "    .dataframe thead th {\n",
       "        text-align: right;\n",
       "    }\n",
       "</style>\n",
       "<table border=\"1\" class=\"dataframe\">\n",
       "  <thead>\n",
       "    <tr style=\"text-align: right;\">\n",
       "      <th></th>\n",
       "      <th>Name</th>\n",
       "      <th>p</th>\n",
       "      <th>r</th>\n",
       "      <th>d</th>\n",
       "      <th>w</th>\n",
       "    </tr>\n",
       "  </thead>\n",
       "  <tbody>\n",
       "    <tr>\n",
       "      <th>0</th>\n",
       "      <td>Job 1</td>\n",
       "      <td>4</td>\n",
       "      <td>0</td>\n",
       "      <td>100</td>\n",
       "      <td>0.65</td>\n",
       "    </tr>\n",
       "    <tr>\n",
       "      <th>1</th>\n",
       "      <td>Job 2</td>\n",
       "      <td>1</td>\n",
       "      <td>0</td>\n",
       "      <td>100</td>\n",
       "      <td>0.84</td>\n",
       "    </tr>\n",
       "    <tr>\n",
       "      <th>2</th>\n",
       "      <td>Job 3</td>\n",
       "      <td>3</td>\n",
       "      <td>0</td>\n",
       "      <td>100</td>\n",
       "      <td>0.46</td>\n",
       "    </tr>\n",
       "    <tr>\n",
       "      <th>3</th>\n",
       "      <td>Job 4</td>\n",
       "      <td>3</td>\n",
       "      <td>0</td>\n",
       "      <td>100</td>\n",
       "      <td>0.79</td>\n",
       "    </tr>\n",
       "    <tr>\n",
       "      <th>4</th>\n",
       "      <td>Job 5</td>\n",
       "      <td>1</td>\n",
       "      <td>0</td>\n",
       "      <td>100</td>\n",
       "      <td>0.17</td>\n",
       "    </tr>\n",
       "    <tr>\n",
       "      <th>5</th>\n",
       "      <td>Job 6</td>\n",
       "      <td>3</td>\n",
       "      <td>0</td>\n",
       "      <td>100</td>\n",
       "      <td>0.50</td>\n",
       "    </tr>\n",
       "    <tr>\n",
       "      <th>6</th>\n",
       "      <td>Job 7</td>\n",
       "      <td>4</td>\n",
       "      <td>0</td>\n",
       "      <td>100</td>\n",
       "      <td>0.95</td>\n",
       "    </tr>\n",
       "    <tr>\n",
       "      <th>7</th>\n",
       "      <td>Job 8</td>\n",
       "      <td>2</td>\n",
       "      <td>0</td>\n",
       "      <td>100</td>\n",
       "      <td>0.14</td>\n",
       "    </tr>\n",
       "    <tr>\n",
       "      <th>8</th>\n",
       "      <td>Job 9</td>\n",
       "      <td>5</td>\n",
       "      <td>0</td>\n",
       "      <td>100</td>\n",
       "      <td>0.52</td>\n",
       "    </tr>\n",
       "    <tr>\n",
       "      <th>9</th>\n",
       "      <td>Job 10</td>\n",
       "      <td>2</td>\n",
       "      <td>0</td>\n",
       "      <td>100</td>\n",
       "      <td>0.40</td>\n",
       "    </tr>\n",
       "    <tr>\n",
       "      <th>10</th>\n",
       "      <td>Job 11</td>\n",
       "      <td>4</td>\n",
       "      <td>0</td>\n",
       "      <td>100</td>\n",
       "      <td>0.55</td>\n",
       "    </tr>\n",
       "    <tr>\n",
       "      <th>11</th>\n",
       "      <td>Job 12</td>\n",
       "      <td>1</td>\n",
       "      <td>0</td>\n",
       "      <td>100</td>\n",
       "      <td>0.39</td>\n",
       "    </tr>\n",
       "    <tr>\n",
       "      <th>12</th>\n",
       "      <td>Job 13</td>\n",
       "      <td>2</td>\n",
       "      <td>0</td>\n",
       "      <td>100</td>\n",
       "      <td>0.57</td>\n",
       "    </tr>\n",
       "    <tr>\n",
       "      <th>13</th>\n",
       "      <td>Job 14</td>\n",
       "      <td>1</td>\n",
       "      <td>0</td>\n",
       "      <td>100</td>\n",
       "      <td>0.90</td>\n",
       "    </tr>\n",
       "    <tr>\n",
       "      <th>14</th>\n",
       "      <td>Job 15</td>\n",
       "      <td>1</td>\n",
       "      <td>0</td>\n",
       "      <td>100</td>\n",
       "      <td>0.22</td>\n",
       "    </tr>\n",
       "  </tbody>\n",
       "</table>\n",
       "</div>"
      ],
      "text/plain": [
       "      Name  p  r    d     w\n",
       "0    Job 1  4  0  100  0.65\n",
       "1    Job 2  1  0  100  0.84\n",
       "2    Job 3  3  0  100  0.46\n",
       "3    Job 4  3  0  100  0.79\n",
       "4    Job 5  1  0  100  0.17\n",
       "5    Job 6  3  0  100  0.50\n",
       "6    Job 7  4  0  100  0.95\n",
       "7    Job 8  2  0  100  0.14\n",
       "8    Job 9  5  0  100  0.52\n",
       "9   Job 10  2  0  100  0.40\n",
       "10  Job 11  4  0  100  0.55\n",
       "11  Job 12  1  0  100  0.39\n",
       "12  Job 13  2  0  100  0.57\n",
       "13  Job 14  1  0  100  0.90\n",
       "14  Job 15  1  0  100  0.22"
      ]
     },
     "metadata": {},
     "output_type": "display_data"
    }
   ],
   "source": [
    "list1 = '/Users/chibangnguyen/Documents/TiLearn/tests/ipynb/data/list1.csv' \n",
    "display(pd.read_csv(list1))"
   ]
  },
  {
   "cell_type": "markdown",
   "metadata": {},
   "source": [
    "- List 2:"
   ]
  },
  {
   "cell_type": "code",
   "execution_count": 6,
   "metadata": {},
   "outputs": [
    {
     "data": {
      "application/vnd.microsoft.datawrangler.viewer.v0+json": {
       "columns": [
        {
         "name": "index",
         "rawType": "int64",
         "type": "integer"
        },
        {
         "name": "Name",
         "rawType": "object",
         "type": "string"
        },
        {
         "name": "p",
         "rawType": "int64",
         "type": "integer"
        },
        {
         "name": "r",
         "rawType": "int64",
         "type": "integer"
        },
        {
         "name": "d",
         "rawType": "int64",
         "type": "integer"
        },
        {
         "name": "w",
         "rawType": "float64",
         "type": "float"
        }
       ],
       "ref": "aa6ad4d9-b49a-4f05-b3b8-1aa77079d9de",
       "rows": [
        [
         "0",
         "Job 16",
         "4",
         "0",
         "100",
         "0.7"
        ],
        [
         "1",
         "Job 17",
         "3",
         "0",
         "100",
         "0.95"
        ],
        [
         "2",
         "Job 18",
         "4",
         "0",
         "100",
         "0.49"
        ],
        [
         "3",
         "Job 19",
         "1",
         "0",
         "100",
         "0.13"
        ],
        [
         "4",
         "Job 20",
         "5",
         "0",
         "100",
         "0.94"
        ],
        [
         "5",
         "Job 21",
         "1",
         "0",
         "100",
         "0.57"
        ],
        [
         "6",
         "Job 22",
         "4",
         "0",
         "100",
         "0.47"
        ]
       ],
       "shape": {
        "columns": 5,
        "rows": 7
       }
      },
      "text/html": [
       "<div>\n",
       "<style scoped>\n",
       "    .dataframe tbody tr th:only-of-type {\n",
       "        vertical-align: middle;\n",
       "    }\n",
       "\n",
       "    .dataframe tbody tr th {\n",
       "        vertical-align: top;\n",
       "    }\n",
       "\n",
       "    .dataframe thead th {\n",
       "        text-align: right;\n",
       "    }\n",
       "</style>\n",
       "<table border=\"1\" class=\"dataframe\">\n",
       "  <thead>\n",
       "    <tr style=\"text-align: right;\">\n",
       "      <th></th>\n",
       "      <th>Name</th>\n",
       "      <th>p</th>\n",
       "      <th>r</th>\n",
       "      <th>d</th>\n",
       "      <th>w</th>\n",
       "    </tr>\n",
       "  </thead>\n",
       "  <tbody>\n",
       "    <tr>\n",
       "      <th>0</th>\n",
       "      <td>Job 16</td>\n",
       "      <td>4</td>\n",
       "      <td>0</td>\n",
       "      <td>100</td>\n",
       "      <td>0.70</td>\n",
       "    </tr>\n",
       "    <tr>\n",
       "      <th>1</th>\n",
       "      <td>Job 17</td>\n",
       "      <td>3</td>\n",
       "      <td>0</td>\n",
       "      <td>100</td>\n",
       "      <td>0.95</td>\n",
       "    </tr>\n",
       "    <tr>\n",
       "      <th>2</th>\n",
       "      <td>Job 18</td>\n",
       "      <td>4</td>\n",
       "      <td>0</td>\n",
       "      <td>100</td>\n",
       "      <td>0.49</td>\n",
       "    </tr>\n",
       "    <tr>\n",
       "      <th>3</th>\n",
       "      <td>Job 19</td>\n",
       "      <td>1</td>\n",
       "      <td>0</td>\n",
       "      <td>100</td>\n",
       "      <td>0.13</td>\n",
       "    </tr>\n",
       "    <tr>\n",
       "      <th>4</th>\n",
       "      <td>Job 20</td>\n",
       "      <td>5</td>\n",
       "      <td>0</td>\n",
       "      <td>100</td>\n",
       "      <td>0.94</td>\n",
       "    </tr>\n",
       "    <tr>\n",
       "      <th>5</th>\n",
       "      <td>Job 21</td>\n",
       "      <td>1</td>\n",
       "      <td>0</td>\n",
       "      <td>100</td>\n",
       "      <td>0.57</td>\n",
       "    </tr>\n",
       "    <tr>\n",
       "      <th>6</th>\n",
       "      <td>Job 22</td>\n",
       "      <td>4</td>\n",
       "      <td>0</td>\n",
       "      <td>100</td>\n",
       "      <td>0.47</td>\n",
       "    </tr>\n",
       "  </tbody>\n",
       "</table>\n",
       "</div>"
      ],
      "text/plain": [
       "     Name  p  r    d     w\n",
       "0  Job 16  4  0  100  0.70\n",
       "1  Job 17  3  0  100  0.95\n",
       "2  Job 18  4  0  100  0.49\n",
       "3  Job 19  1  0  100  0.13\n",
       "4  Job 20  5  0  100  0.94\n",
       "5  Job 21  1  0  100  0.57\n",
       "6  Job 22  4  0  100  0.47"
      ]
     },
     "metadata": {},
     "output_type": "display_data"
    }
   ],
   "source": [
    "list2 = '/Users/chibangnguyen/Documents/TiLearn/tests/ipynb/data/list2.csv'\n",
    "display(pd.read_csv(list2))"
   ]
  },
  {
   "cell_type": "markdown",
   "metadata": {},
   "source": [
    "- List 3:"
   ]
  },
  {
   "cell_type": "code",
   "execution_count": 7,
   "metadata": {},
   "outputs": [
    {
     "data": {
      "application/vnd.microsoft.datawrangler.viewer.v0+json": {
       "columns": [
        {
         "name": "index",
         "rawType": "int64",
         "type": "integer"
        },
        {
         "name": "Name",
         "rawType": "object",
         "type": "string"
        },
        {
         "name": "p",
         "rawType": "int64",
         "type": "integer"
        },
        {
         "name": "r",
         "rawType": "int64",
         "type": "integer"
        },
        {
         "name": "d",
         "rawType": "int64",
         "type": "integer"
        },
        {
         "name": "w",
         "rawType": "float64",
         "type": "float"
        }
       ],
       "ref": "e65da9b4-7977-474a-bf91-e33a374cdb9d",
       "rows": [
        [
         "0",
         "Job 23",
         "4",
         "0",
         "100",
         "0.24"
        ],
        [
         "1",
         "Job 24",
         "1",
         "0",
         "100",
         "0.54"
        ],
        [
         "2",
         "Job 25",
         "2",
         "0",
         "100",
         "0.81"
        ],
        [
         "3",
         "Job 26",
         "2",
         "0",
         "100",
         "0.41"
        ],
        [
         "4",
         "Job 27",
         "5",
         "0",
         "100",
         "0.22"
        ],
        [
         "5",
         "Job 28",
         "2",
         "0",
         "100",
         "0.29"
        ],
        [
         "6",
         "Job 29",
         "5",
         "0",
         "100",
         "0.65"
        ],
        [
         "7",
         "Job 30",
         "4",
         "0",
         "100",
         "0.69"
        ]
       ],
       "shape": {
        "columns": 5,
        "rows": 8
       }
      },
      "text/html": [
       "<div>\n",
       "<style scoped>\n",
       "    .dataframe tbody tr th:only-of-type {\n",
       "        vertical-align: middle;\n",
       "    }\n",
       "\n",
       "    .dataframe tbody tr th {\n",
       "        vertical-align: top;\n",
       "    }\n",
       "\n",
       "    .dataframe thead th {\n",
       "        text-align: right;\n",
       "    }\n",
       "</style>\n",
       "<table border=\"1\" class=\"dataframe\">\n",
       "  <thead>\n",
       "    <tr style=\"text-align: right;\">\n",
       "      <th></th>\n",
       "      <th>Name</th>\n",
       "      <th>p</th>\n",
       "      <th>r</th>\n",
       "      <th>d</th>\n",
       "      <th>w</th>\n",
       "    </tr>\n",
       "  </thead>\n",
       "  <tbody>\n",
       "    <tr>\n",
       "      <th>0</th>\n",
       "      <td>Job 23</td>\n",
       "      <td>4</td>\n",
       "      <td>0</td>\n",
       "      <td>100</td>\n",
       "      <td>0.24</td>\n",
       "    </tr>\n",
       "    <tr>\n",
       "      <th>1</th>\n",
       "      <td>Job 24</td>\n",
       "      <td>1</td>\n",
       "      <td>0</td>\n",
       "      <td>100</td>\n",
       "      <td>0.54</td>\n",
       "    </tr>\n",
       "    <tr>\n",
       "      <th>2</th>\n",
       "      <td>Job 25</td>\n",
       "      <td>2</td>\n",
       "      <td>0</td>\n",
       "      <td>100</td>\n",
       "      <td>0.81</td>\n",
       "    </tr>\n",
       "    <tr>\n",
       "      <th>3</th>\n",
       "      <td>Job 26</td>\n",
       "      <td>2</td>\n",
       "      <td>0</td>\n",
       "      <td>100</td>\n",
       "      <td>0.41</td>\n",
       "    </tr>\n",
       "    <tr>\n",
       "      <th>4</th>\n",
       "      <td>Job 27</td>\n",
       "      <td>5</td>\n",
       "      <td>0</td>\n",
       "      <td>100</td>\n",
       "      <td>0.22</td>\n",
       "    </tr>\n",
       "    <tr>\n",
       "      <th>5</th>\n",
       "      <td>Job 28</td>\n",
       "      <td>2</td>\n",
       "      <td>0</td>\n",
       "      <td>100</td>\n",
       "      <td>0.29</td>\n",
       "    </tr>\n",
       "    <tr>\n",
       "      <th>6</th>\n",
       "      <td>Job 29</td>\n",
       "      <td>5</td>\n",
       "      <td>0</td>\n",
       "      <td>100</td>\n",
       "      <td>0.65</td>\n",
       "    </tr>\n",
       "    <tr>\n",
       "      <th>7</th>\n",
       "      <td>Job 30</td>\n",
       "      <td>4</td>\n",
       "      <td>0</td>\n",
       "      <td>100</td>\n",
       "      <td>0.69</td>\n",
       "    </tr>\n",
       "  </tbody>\n",
       "</table>\n",
       "</div>"
      ],
      "text/plain": [
       "     Name  p  r    d     w\n",
       "0  Job 23  4  0  100  0.24\n",
       "1  Job 24  1  0  100  0.54\n",
       "2  Job 25  2  0  100  0.81\n",
       "3  Job 26  2  0  100  0.41\n",
       "4  Job 27  5  0  100  0.22\n",
       "5  Job 28  2  0  100  0.29\n",
       "6  Job 29  5  0  100  0.65\n",
       "7  Job 30  4  0  100  0.69"
      ]
     },
     "metadata": {},
     "output_type": "display_data"
    }
   ],
   "source": [
    "list3 = '/Users/chibangnguyen/Documents/TiLearn/tests/ipynb/data/list3.csv'\n",
    "display(pd.read_csv(list3))"
   ]
  },
  {
   "cell_type": "markdown",
   "metadata": {},
   "source": [
    "In List 1, the jobs are independent and have no precedence, meaning they follow the structure of $1||\\sum w_j C_j$. However, Lists 2 and 3 follow a structure that includes precedence constraints, $1|prec|\\sum w_j C_j$."
   ]
  },
  {
   "cell_type": "markdown",
   "metadata": {},
   "source": [
    "The folder structure is set up as follows"
   ]
  },
  {
   "cell_type": "markdown",
   "metadata": {
    "vscode": {
     "languageId": "raw"
    }
   },
   "source": [
    "```txt\n",
    "tilearn/\n",
    "├── main.py\n",
    "└── data/\n",
    "    ├── backup/\n",
    "    ├── list1.csv\n",
    "    ├── list2.csv\n",
    "    └── list3.csv\n",
    "```"
   ]
  },
  {
   "cell_type": "markdown",
   "metadata": {},
   "source": [
    "Define the data paths"
   ]
  },
  {
   "cell_type": "code",
   "execution_count": 8,
   "metadata": {},
   "outputs": [],
   "source": [
    "original = '/Users/chibangnguyen/Documents/TiLearn/tests/ipynb/data'\n",
    "backup = '/Users/chibangnguyen/Documents/TiLearn/tests/ipynb/data/backup'"
   ]
  },
  {
   "cell_type": "markdown",
   "metadata": {},
   "source": [
    "Select the problem type for each list by setting ``prec`` as follows:\n",
    "    \n",
    "- ``prec=0`` for problems that do not require job precedence.\n",
    "\n",
    "- ``prec=1`` for problems that require job precedence."
   ]
  },
  {
   "cell_type": "code",
   "execution_count": 9,
   "metadata": {},
   "outputs": [],
   "source": [
    "lists = [\n",
    "    pl.List(backup, file_path=list1, prec=0),\n",
    "    pl.List(backup, file_path=list2, prec=1),\n",
    "    pl.List(backup, file_path=list3, prec=1),\n",
    "]"
   ]
  },
  {
   "cell_type": "markdown",
   "metadata": {},
   "source": [
    "Run the program with the following command"
   ]
  },
  {
   "cell_type": "code",
   "execution_count": 10,
   "metadata": {},
   "outputs": [
    {
     "name": "stdout",
     "output_type": "stream",
     "text": [
      "[['Job 14', 1.0, 0, 100, 0.9, 0.9], ['Job 2', 1.0, 0, 100, 0.84, 0.84], ['Job 12', 1.0, 0, 100, 0.39, 0.39], ['Job 13', 2.0, 0, 100, 0.57, 0.285], ['Job 4', 3.0, 0, 100, 0.79, 0.26333333333333336], ['Job 7', 4.0, 0, 100, 0.95, 0.2375], ['Job 16', 4.0, 0, 100, 0.7, 0.175], ['Job 17', 3.0, 0, 100, 0.95, 0.2357142857142857], ['Job 23', 4.0, 0, 100, 0.24, 0.06], ['Job 24', 1.0, 0, 100, 0.54, 0.156], ['Job 25', 2.0, 0, 100, 0.81, 0.22714285714285715], ['Job 15', 1.0, 0, 100, 0.22, 0.22], ['Job 26', 2.0, 0, 100, 0.41, 0.205], ['Job 10', 2.0, 0, 100, 0.4, 0.2], ['Job 18', 4.0, 0, 100, 0.49, 0.1225], ['Job 19', 1.0, 0, 100, 0.13, 0.124], ['Job 20', 5.0, 0, 100, 0.94, 0.156], ['Job 21', 1.0, 0, 100, 0.57, 0.19363636363636363], ['Job 5', 1.0, 0, 100, 0.17, 0.17], ['Job 6', 3.0, 0, 100, 0.5, 0.16666666666666666], ['Job 1', 4.0, 0, 100, 0.65, 0.1625], ['Job 3', 3.0, 0, 100, 0.46, 0.15333333333333335], ['Job 11', 4.0, 0, 100, 0.55, 0.1375], ['Job 22', 4.0, 0, 100, 0.47, 0.1175], ['Job 27', 5.0, 0, 100, 0.22, 0.044], ['Job 28', 2.0, 0, 100, 0.29, 0.07285714285714286], ['Job 29', 5.0, 0, 100, 0.65, 0.09666666666666668], ['Job 30', 4.0, 0, 100, 0.69, 0.115625], ['Job 9', 5.0, 0, 100, 0.52, 0.10400000000000001], ['Job 8', 2.0, 0, 100, 0.14, 0.07]]\n"
     ]
    }
   ],
   "source": [
    "schedule = tl.optimal_list(lists, original, backup)\n",
    "print(schedule)"
   ]
  },
  {
   "cell_type": "markdown",
   "metadata": {},
   "source": [
    "To make the list more readable, you can use the following command"
   ]
  },
  {
   "cell_type": "code",
   "execution_count": 11,
   "metadata": {},
   "outputs": [
    {
     "name": "stdout",
     "output_type": "stream",
     "text": [
      "['Job 14', 1.0, 0, 100, 0.9, 0.9]\n",
      "['Job 2', 1.0, 0, 100, 0.84, 0.84]\n",
      "['Job 12', 1.0, 0, 100, 0.39, 0.39]\n",
      "['Job 13', 2.0, 0, 100, 0.57, 0.285]\n",
      "['Job 4', 3.0, 0, 100, 0.79, 0.26333333333333336]\n",
      "['Job 7', 4.0, 0, 100, 0.95, 0.2375]\n",
      "['Job 16', 4.0, 0, 100, 0.7, 0.175]\n",
      "['Job 17', 3.0, 0, 100, 0.95, 0.2357142857142857]\n",
      "['Job 23', 4.0, 0, 100, 0.24, 0.06]\n",
      "['Job 24', 1.0, 0, 100, 0.54, 0.156]\n",
      "['Job 25', 2.0, 0, 100, 0.81, 0.22714285714285715]\n",
      "['Job 15', 1.0, 0, 100, 0.22, 0.22]\n",
      "['Job 26', 2.0, 0, 100, 0.41, 0.205]\n",
      "['Job 10', 2.0, 0, 100, 0.4, 0.2]\n",
      "['Job 18', 4.0, 0, 100, 0.49, 0.1225]\n",
      "['Job 19', 1.0, 0, 100, 0.13, 0.124]\n",
      "['Job 20', 5.0, 0, 100, 0.94, 0.156]\n",
      "['Job 21', 1.0, 0, 100, 0.57, 0.19363636363636363]\n",
      "['Job 5', 1.0, 0, 100, 0.17, 0.17]\n",
      "['Job 6', 3.0, 0, 100, 0.5, 0.16666666666666666]\n",
      "['Job 1', 4.0, 0, 100, 0.65, 0.1625]\n",
      "['Job 3', 3.0, 0, 100, 0.46, 0.15333333333333335]\n",
      "['Job 11', 4.0, 0, 100, 0.55, 0.1375]\n",
      "['Job 22', 4.0, 0, 100, 0.47, 0.1175]\n",
      "['Job 27', 5.0, 0, 100, 0.22, 0.044]\n",
      "['Job 28', 2.0, 0, 100, 0.29, 0.07285714285714286]\n",
      "['Job 29', 5.0, 0, 100, 0.65, 0.09666666666666668]\n",
      "['Job 30', 4.0, 0, 100, 0.69, 0.115625]\n",
      "['Job 9', 5.0, 0, 100, 0.52, 0.10400000000000001]\n",
      "['Job 8', 2.0, 0, 100, 0.14, 0.07]\n"
     ]
    }
   ],
   "source": [
    "for row in schedule:\n",
    "    print(row)"
   ]
  },
  {
   "cell_type": "code",
   "execution_count": 12,
   "metadata": {},
   "outputs": [],
   "source": [
    "header = ['Name','p','r','d','w','p-factor']\n",
    "output = '/Users/chibangnguyen/Documents/TiLearn/tests/ipynb/output.csv'\n",
    "schedule = tl.optimal_list(lists, original, backup)\n",
    "with open(output, 'w', newline='') as file:\n",
    "    writer = csv.writer(file)\n",
    "    writer.writerow(header)\n",
    "    writer.writerows(schedule)"
   ]
  },
  {
   "cell_type": "markdown",
   "metadata": {},
   "source": [
    "View the output data from the ``output.csv`` file:"
   ]
  },
  {
   "cell_type": "code",
   "execution_count": 13,
   "metadata": {},
   "outputs": [
    {
     "data": {
      "application/vnd.microsoft.datawrangler.viewer.v0+json": {
       "columns": [
        {
         "name": "index",
         "rawType": "int64",
         "type": "integer"
        },
        {
         "name": "Name",
         "rawType": "object",
         "type": "string"
        },
        {
         "name": "p",
         "rawType": "float64",
         "type": "float"
        },
        {
         "name": "r",
         "rawType": "int64",
         "type": "integer"
        },
        {
         "name": "d",
         "rawType": "int64",
         "type": "integer"
        },
        {
         "name": "w",
         "rawType": "float64",
         "type": "float"
        },
        {
         "name": "p-factor",
         "rawType": "float64",
         "type": "float"
        }
       ],
       "ref": "1a05d580-f357-4303-a154-9710a5cb2cf8",
       "rows": [
        [
         "0",
         "Job 14",
         "1.0",
         "0",
         "100",
         "0.9",
         "0.9"
        ],
        [
         "1",
         "Job 2",
         "1.0",
         "0",
         "100",
         "0.84",
         "0.84"
        ],
        [
         "2",
         "Job 12",
         "1.0",
         "0",
         "100",
         "0.39",
         "0.39"
        ],
        [
         "3",
         "Job 13",
         "2.0",
         "0",
         "100",
         "0.57",
         "0.285"
        ],
        [
         "4",
         "Job 4",
         "3.0",
         "0",
         "100",
         "0.79",
         "0.2633333333333333"
        ],
        [
         "5",
         "Job 7",
         "4.0",
         "0",
         "100",
         "0.95",
         "0.2375"
        ],
        [
         "6",
         "Job 16",
         "4.0",
         "0",
         "100",
         "0.7",
         "0.175"
        ],
        [
         "7",
         "Job 17",
         "3.0",
         "0",
         "100",
         "0.95",
         "0.2357142857142857"
        ],
        [
         "8",
         "Job 23",
         "4.0",
         "0",
         "100",
         "0.24",
         "0.06"
        ],
        [
         "9",
         "Job 24",
         "1.0",
         "0",
         "100",
         "0.54",
         "0.156"
        ],
        [
         "10",
         "Job 25",
         "2.0",
         "0",
         "100",
         "0.81",
         "0.2271428571428571"
        ],
        [
         "11",
         "Job 15",
         "1.0",
         "0",
         "100",
         "0.22",
         "0.22"
        ],
        [
         "12",
         "Job 26",
         "2.0",
         "0",
         "100",
         "0.41",
         "0.205"
        ],
        [
         "13",
         "Job 10",
         "2.0",
         "0",
         "100",
         "0.4",
         "0.2"
        ],
        [
         "14",
         "Job 18",
         "4.0",
         "0",
         "100",
         "0.49",
         "0.1225"
        ],
        [
         "15",
         "Job 19",
         "1.0",
         "0",
         "100",
         "0.13",
         "0.124"
        ],
        [
         "16",
         "Job 20",
         "5.0",
         "0",
         "100",
         "0.94",
         "0.156"
        ],
        [
         "17",
         "Job 21",
         "1.0",
         "0",
         "100",
         "0.57",
         "0.1936363636363636"
        ],
        [
         "18",
         "Job 5",
         "1.0",
         "0",
         "100",
         "0.17",
         "0.17"
        ],
        [
         "19",
         "Job 6",
         "3.0",
         "0",
         "100",
         "0.5",
         "0.1666666666666666"
        ],
        [
         "20",
         "Job 1",
         "4.0",
         "0",
         "100",
         "0.65",
         "0.1625"
        ],
        [
         "21",
         "Job 3",
         "3.0",
         "0",
         "100",
         "0.46",
         "0.1533333333333333"
        ],
        [
         "22",
         "Job 11",
         "4.0",
         "0",
         "100",
         "0.55",
         "0.1375"
        ],
        [
         "23",
         "Job 22",
         "4.0",
         "0",
         "100",
         "0.47",
         "0.1175"
        ],
        [
         "24",
         "Job 27",
         "5.0",
         "0",
         "100",
         "0.22",
         "0.044"
        ],
        [
         "25",
         "Job 28",
         "2.0",
         "0",
         "100",
         "0.29",
         "0.0728571428571428"
        ],
        [
         "26",
         "Job 29",
         "5.0",
         "0",
         "100",
         "0.65",
         "0.0966666666666666"
        ],
        [
         "27",
         "Job 30",
         "4.0",
         "0",
         "100",
         "0.69",
         "0.115625"
        ],
        [
         "28",
         "Job 9",
         "5.0",
         "0",
         "100",
         "0.52",
         "0.104"
        ],
        [
         "29",
         "Job 8",
         "2.0",
         "0",
         "100",
         "0.14",
         "0.07"
        ]
       ],
       "shape": {
        "columns": 6,
        "rows": 30
       }
      },
      "text/html": [
       "<div>\n",
       "<style scoped>\n",
       "    .dataframe tbody tr th:only-of-type {\n",
       "        vertical-align: middle;\n",
       "    }\n",
       "\n",
       "    .dataframe tbody tr th {\n",
       "        vertical-align: top;\n",
       "    }\n",
       "\n",
       "    .dataframe thead th {\n",
       "        text-align: right;\n",
       "    }\n",
       "</style>\n",
       "<table border=\"1\" class=\"dataframe\">\n",
       "  <thead>\n",
       "    <tr style=\"text-align: right;\">\n",
       "      <th></th>\n",
       "      <th>Name</th>\n",
       "      <th>p</th>\n",
       "      <th>r</th>\n",
       "      <th>d</th>\n",
       "      <th>w</th>\n",
       "      <th>p-factor</th>\n",
       "    </tr>\n",
       "  </thead>\n",
       "  <tbody>\n",
       "    <tr>\n",
       "      <th>0</th>\n",
       "      <td>Job 14</td>\n",
       "      <td>1.0</td>\n",
       "      <td>0</td>\n",
       "      <td>100</td>\n",
       "      <td>0.90</td>\n",
       "      <td>0.900000</td>\n",
       "    </tr>\n",
       "    <tr>\n",
       "      <th>1</th>\n",
       "      <td>Job 2</td>\n",
       "      <td>1.0</td>\n",
       "      <td>0</td>\n",
       "      <td>100</td>\n",
       "      <td>0.84</td>\n",
       "      <td>0.840000</td>\n",
       "    </tr>\n",
       "    <tr>\n",
       "      <th>2</th>\n",
       "      <td>Job 12</td>\n",
       "      <td>1.0</td>\n",
       "      <td>0</td>\n",
       "      <td>100</td>\n",
       "      <td>0.39</td>\n",
       "      <td>0.390000</td>\n",
       "    </tr>\n",
       "    <tr>\n",
       "      <th>3</th>\n",
       "      <td>Job 13</td>\n",
       "      <td>2.0</td>\n",
       "      <td>0</td>\n",
       "      <td>100</td>\n",
       "      <td>0.57</td>\n",
       "      <td>0.285000</td>\n",
       "    </tr>\n",
       "    <tr>\n",
       "      <th>4</th>\n",
       "      <td>Job 4</td>\n",
       "      <td>3.0</td>\n",
       "      <td>0</td>\n",
       "      <td>100</td>\n",
       "      <td>0.79</td>\n",
       "      <td>0.263333</td>\n",
       "    </tr>\n",
       "    <tr>\n",
       "      <th>5</th>\n",
       "      <td>Job 7</td>\n",
       "      <td>4.0</td>\n",
       "      <td>0</td>\n",
       "      <td>100</td>\n",
       "      <td>0.95</td>\n",
       "      <td>0.237500</td>\n",
       "    </tr>\n",
       "    <tr>\n",
       "      <th>6</th>\n",
       "      <td>Job 16</td>\n",
       "      <td>4.0</td>\n",
       "      <td>0</td>\n",
       "      <td>100</td>\n",
       "      <td>0.70</td>\n",
       "      <td>0.175000</td>\n",
       "    </tr>\n",
       "    <tr>\n",
       "      <th>7</th>\n",
       "      <td>Job 17</td>\n",
       "      <td>3.0</td>\n",
       "      <td>0</td>\n",
       "      <td>100</td>\n",
       "      <td>0.95</td>\n",
       "      <td>0.235714</td>\n",
       "    </tr>\n",
       "    <tr>\n",
       "      <th>8</th>\n",
       "      <td>Job 23</td>\n",
       "      <td>4.0</td>\n",
       "      <td>0</td>\n",
       "      <td>100</td>\n",
       "      <td>0.24</td>\n",
       "      <td>0.060000</td>\n",
       "    </tr>\n",
       "    <tr>\n",
       "      <th>9</th>\n",
       "      <td>Job 24</td>\n",
       "      <td>1.0</td>\n",
       "      <td>0</td>\n",
       "      <td>100</td>\n",
       "      <td>0.54</td>\n",
       "      <td>0.156000</td>\n",
       "    </tr>\n",
       "    <tr>\n",
       "      <th>10</th>\n",
       "      <td>Job 25</td>\n",
       "      <td>2.0</td>\n",
       "      <td>0</td>\n",
       "      <td>100</td>\n",
       "      <td>0.81</td>\n",
       "      <td>0.227143</td>\n",
       "    </tr>\n",
       "    <tr>\n",
       "      <th>11</th>\n",
       "      <td>Job 15</td>\n",
       "      <td>1.0</td>\n",
       "      <td>0</td>\n",
       "      <td>100</td>\n",
       "      <td>0.22</td>\n",
       "      <td>0.220000</td>\n",
       "    </tr>\n",
       "    <tr>\n",
       "      <th>12</th>\n",
       "      <td>Job 26</td>\n",
       "      <td>2.0</td>\n",
       "      <td>0</td>\n",
       "      <td>100</td>\n",
       "      <td>0.41</td>\n",
       "      <td>0.205000</td>\n",
       "    </tr>\n",
       "    <tr>\n",
       "      <th>13</th>\n",
       "      <td>Job 10</td>\n",
       "      <td>2.0</td>\n",
       "      <td>0</td>\n",
       "      <td>100</td>\n",
       "      <td>0.40</td>\n",
       "      <td>0.200000</td>\n",
       "    </tr>\n",
       "    <tr>\n",
       "      <th>14</th>\n",
       "      <td>Job 18</td>\n",
       "      <td>4.0</td>\n",
       "      <td>0</td>\n",
       "      <td>100</td>\n",
       "      <td>0.49</td>\n",
       "      <td>0.122500</td>\n",
       "    </tr>\n",
       "    <tr>\n",
       "      <th>15</th>\n",
       "      <td>Job 19</td>\n",
       "      <td>1.0</td>\n",
       "      <td>0</td>\n",
       "      <td>100</td>\n",
       "      <td>0.13</td>\n",
       "      <td>0.124000</td>\n",
       "    </tr>\n",
       "    <tr>\n",
       "      <th>16</th>\n",
       "      <td>Job 20</td>\n",
       "      <td>5.0</td>\n",
       "      <td>0</td>\n",
       "      <td>100</td>\n",
       "      <td>0.94</td>\n",
       "      <td>0.156000</td>\n",
       "    </tr>\n",
       "    <tr>\n",
       "      <th>17</th>\n",
       "      <td>Job 21</td>\n",
       "      <td>1.0</td>\n",
       "      <td>0</td>\n",
       "      <td>100</td>\n",
       "      <td>0.57</td>\n",
       "      <td>0.193636</td>\n",
       "    </tr>\n",
       "    <tr>\n",
       "      <th>18</th>\n",
       "      <td>Job 5</td>\n",
       "      <td>1.0</td>\n",
       "      <td>0</td>\n",
       "      <td>100</td>\n",
       "      <td>0.17</td>\n",
       "      <td>0.170000</td>\n",
       "    </tr>\n",
       "    <tr>\n",
       "      <th>19</th>\n",
       "      <td>Job 6</td>\n",
       "      <td>3.0</td>\n",
       "      <td>0</td>\n",
       "      <td>100</td>\n",
       "      <td>0.50</td>\n",
       "      <td>0.166667</td>\n",
       "    </tr>\n",
       "    <tr>\n",
       "      <th>20</th>\n",
       "      <td>Job 1</td>\n",
       "      <td>4.0</td>\n",
       "      <td>0</td>\n",
       "      <td>100</td>\n",
       "      <td>0.65</td>\n",
       "      <td>0.162500</td>\n",
       "    </tr>\n",
       "    <tr>\n",
       "      <th>21</th>\n",
       "      <td>Job 3</td>\n",
       "      <td>3.0</td>\n",
       "      <td>0</td>\n",
       "      <td>100</td>\n",
       "      <td>0.46</td>\n",
       "      <td>0.153333</td>\n",
       "    </tr>\n",
       "    <tr>\n",
       "      <th>22</th>\n",
       "      <td>Job 11</td>\n",
       "      <td>4.0</td>\n",
       "      <td>0</td>\n",
       "      <td>100</td>\n",
       "      <td>0.55</td>\n",
       "      <td>0.137500</td>\n",
       "    </tr>\n",
       "    <tr>\n",
       "      <th>23</th>\n",
       "      <td>Job 22</td>\n",
       "      <td>4.0</td>\n",
       "      <td>0</td>\n",
       "      <td>100</td>\n",
       "      <td>0.47</td>\n",
       "      <td>0.117500</td>\n",
       "    </tr>\n",
       "    <tr>\n",
       "      <th>24</th>\n",
       "      <td>Job 27</td>\n",
       "      <td>5.0</td>\n",
       "      <td>0</td>\n",
       "      <td>100</td>\n",
       "      <td>0.22</td>\n",
       "      <td>0.044000</td>\n",
       "    </tr>\n",
       "    <tr>\n",
       "      <th>25</th>\n",
       "      <td>Job 28</td>\n",
       "      <td>2.0</td>\n",
       "      <td>0</td>\n",
       "      <td>100</td>\n",
       "      <td>0.29</td>\n",
       "      <td>0.072857</td>\n",
       "    </tr>\n",
       "    <tr>\n",
       "      <th>26</th>\n",
       "      <td>Job 29</td>\n",
       "      <td>5.0</td>\n",
       "      <td>0</td>\n",
       "      <td>100</td>\n",
       "      <td>0.65</td>\n",
       "      <td>0.096667</td>\n",
       "    </tr>\n",
       "    <tr>\n",
       "      <th>27</th>\n",
       "      <td>Job 30</td>\n",
       "      <td>4.0</td>\n",
       "      <td>0</td>\n",
       "      <td>100</td>\n",
       "      <td>0.69</td>\n",
       "      <td>0.115625</td>\n",
       "    </tr>\n",
       "    <tr>\n",
       "      <th>28</th>\n",
       "      <td>Job 9</td>\n",
       "      <td>5.0</td>\n",
       "      <td>0</td>\n",
       "      <td>100</td>\n",
       "      <td>0.52</td>\n",
       "      <td>0.104000</td>\n",
       "    </tr>\n",
       "    <tr>\n",
       "      <th>29</th>\n",
       "      <td>Job 8</td>\n",
       "      <td>2.0</td>\n",
       "      <td>0</td>\n",
       "      <td>100</td>\n",
       "      <td>0.14</td>\n",
       "      <td>0.070000</td>\n",
       "    </tr>\n",
       "  </tbody>\n",
       "</table>\n",
       "</div>"
      ],
      "text/plain": [
       "      Name    p  r    d     w  p-factor\n",
       "0   Job 14  1.0  0  100  0.90  0.900000\n",
       "1    Job 2  1.0  0  100  0.84  0.840000\n",
       "2   Job 12  1.0  0  100  0.39  0.390000\n",
       "3   Job 13  2.0  0  100  0.57  0.285000\n",
       "4    Job 4  3.0  0  100  0.79  0.263333\n",
       "5    Job 7  4.0  0  100  0.95  0.237500\n",
       "6   Job 16  4.0  0  100  0.70  0.175000\n",
       "7   Job 17  3.0  0  100  0.95  0.235714\n",
       "8   Job 23  4.0  0  100  0.24  0.060000\n",
       "9   Job 24  1.0  0  100  0.54  0.156000\n",
       "10  Job 25  2.0  0  100  0.81  0.227143\n",
       "11  Job 15  1.0  0  100  0.22  0.220000\n",
       "12  Job 26  2.0  0  100  0.41  0.205000\n",
       "13  Job 10  2.0  0  100  0.40  0.200000\n",
       "14  Job 18  4.0  0  100  0.49  0.122500\n",
       "15  Job 19  1.0  0  100  0.13  0.124000\n",
       "16  Job 20  5.0  0  100  0.94  0.156000\n",
       "17  Job 21  1.0  0  100  0.57  0.193636\n",
       "18   Job 5  1.0  0  100  0.17  0.170000\n",
       "19   Job 6  3.0  0  100  0.50  0.166667\n",
       "20   Job 1  4.0  0  100  0.65  0.162500\n",
       "21   Job 3  3.0  0  100  0.46  0.153333\n",
       "22  Job 11  4.0  0  100  0.55  0.137500\n",
       "23  Job 22  4.0  0  100  0.47  0.117500\n",
       "24  Job 27  5.0  0  100  0.22  0.044000\n",
       "25  Job 28  2.0  0  100  0.29  0.072857\n",
       "26  Job 29  5.0  0  100  0.65  0.096667\n",
       "27  Job 30  4.0  0  100  0.69  0.115625\n",
       "28   Job 9  5.0  0  100  0.52  0.104000\n",
       "29   Job 8  2.0  0  100  0.14  0.070000"
      ]
     },
     "metadata": {},
     "output_type": "display_data"
    }
   ],
   "source": [
    "display(pd.read_csv('/Users/chibangnguyen/Documents/TiLearn/tests/ipynb/output.csv'))"
   ]
  },
  {
   "cell_type": "markdown",
   "metadata": {},
   "source": [
    "## Data Visualization"
   ]
  },
  {
   "cell_type": "markdown",
   "metadata": {},
   "source": [
    "We use the `pandas` library to help visualize the data."
   ]
  },
  {
   "cell_type": "code",
   "execution_count": 14,
   "metadata": {},
   "outputs": [],
   "source": [
    "df = pd.read_csv(r'/Users/chibangnguyen/Documents/TiLearn/tests/ipynb/output.csv', engine='pyarrow')"
   ]
  },
  {
   "cell_type": "markdown",
   "metadata": {},
   "source": [
    "Let’s first look at the processing time chart"
   ]
  },
  {
   "cell_type": "code",
   "execution_count": 15,
   "metadata": {},
   "outputs": [
    {
     "data": {
      "image/png": "[encoded data removed]",
      "text/plain": [
       "<Figure size 700x300 with 1 Axes>"
      ]
     },
     "metadata": {},
     "output_type": "display_data"
    }
   ],
   "source": [
    "plt.figure(figsize=(7, 3))\n",
    "df['p'].plot(title='Processing Time Chart')\n",
    "plt.show()"
   ]
  },
  {
   "cell_type": "markdown",
   "metadata": {},
   "source": [
    "Based on the chart above, we can see that after optimizing the job list, the processing times for each job tend to increase from the first job to the last job."
   ]
  },
  {
   "cell_type": "markdown",
   "metadata": {},
   "source": [
    "Next, let’s look at the job weight chart"
   ]
  },
  {
   "cell_type": "code",
   "execution_count": 16,
   "metadata": {},
   "outputs": [
    {
     "data": {
      "image/png": "[encoded data removed]",
      "text/plain": [
       "<Figure size 700x300 with 1 Axes>"
      ]
     },
     "metadata": {},
     "output_type": "display_data"
    }
   ],
   "source": [
    "plt.figure(figsize=(7, 3))\n",
    "df['w'].plot(title='Job Weight Chart')\n",
    "plt.show()"
   ]
  },
  {
   "cell_type": "markdown",
   "metadata": {},
   "source": [
    "From this chart, we can see that after optimizing the job list, the weights of each job tend to decrease from the first job to the last job."
   ]
  },
  {
   "cell_type": "markdown",
   "metadata": {},
   "source": [
    "From these insights, it is easy to observe that jobs with shorter processing times and higher priority weights are pushed to the top, while jobs with longer processing times and lower priorities are placed at the bottom."
   ]
  },
  {
   "cell_type": "markdown",
   "metadata": {},
   "source": [
    "# Scheduling for Design Production Using TiLearn"
   ]
  },
  {
   "cell_type": "markdown",
   "metadata": {},
   "source": [
    "## Introduction to the Design Process"
   ]
  },
  {
   "cell_type": "markdown",
   "metadata": {},
   "source": [
    "In the processing stage, studios often face the challenge of allocating resources and adjusting designs for multiple projects simultaneously. This is based on client priority, the complexity of each project, and external factors such as construction time. Applying scheduling techniques helps manage data more efficiently, plan better, and track progress while adjusting when necessary.\n",
    "\n",
    "Typically, an interior design project goes through the following main stages:\n",
    "\n",
    "- Concept development\n",
    "\n",
    "- Space planning\n",
    "\n",
    "- Design development\n",
    "\n",
    "- Material selection\n",
    "\n",
    "- Cost estimation\n",
    "\n",
    "- Construction\n",
    "\n",
    "- Installation\n",
    "\n",
    "- Decoration\n",
    "\n",
    "- Handover\n",
    "\n",
    "Each phase needs to be completed before moving to the next. Therefore, the problem can be modeled as a scheduling problem with precedence constraints: $1|prec|\\sum w_j C_j$, where tasks must follow priority and precedence rules.\n",
    "\n",
    "Additionally, the studio may need to perform condition surveys for various projects, which do not require sequential completion. In this case, the problem can be modeled as $1||\\sum w_j C_j$, where jobs can be completed in any order."
   ]
  }
 ],
 "metadata": {
  "kernelspec": {
   "display_name": "3.13.7",
   "language": "python",
   "name": "python3"
  },
  "language_info": {
   "codemirror_mode": {
    "name": "ipython",
    "version": 3
   },
   "file_extension": ".py",
   "mimetype": "text/x-python",
   "name": "python",
   "nbconvert_exporter": "python",
   "pygments_lexer": "ipython3",
   "version": "3.13.7"
  }
 },
 "nbformat": 4,
 "nbformat_minor": 4
}
