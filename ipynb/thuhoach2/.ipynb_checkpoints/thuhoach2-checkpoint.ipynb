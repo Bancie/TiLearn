{
 "cells": [
  {
   "cell_type": "markdown",
   "metadata": {},
   "source": [
    "# Bài thu hoạch số 2"
   ]
  },
  {
   "cell_type": "markdown",
   "metadata": {},
   "source": [
    "## Giới thiệu về thư viện TiLearn"
   ]
  },
  {
   "cell_type": "markdown",
   "metadata": {},
   "source": [
    "## Chạy số liệu minh hoạ bằng TiLearn"
   ]
  },
  {
   "cell_type": "markdown",
   "metadata": {},
   "source": [
    "Ta gọi thư viện TiLearn như sau:"
   ]
  },
  {
   "cell_type": "code",
   "execution_count": 12,
   "metadata": {},
   "outputs": [],
   "source": [
    "import tilearn as tl\n",
    "from tilearn import _plat as pl"
   ]
  },
  {
   "cell_type": "markdown",
   "metadata": {},
   "source": [
    "Khai báo đường dẫn dữ liệu như sau:"
   ]
  },
  {
   "cell_type": "code",
   "execution_count": 11,
   "metadata": {},
   "outputs": [],
   "source": [
    "original = '/Users/chibangnguyen/Documents/BigBrain/ipynb/thuhoach2/data'\n",
    "backup = '/Users/chibangnguyen/Documents/BigBrain/ipynb/thuhoach2/data/backup'\n",
    "list1 = '/Users/chibangnguyen/Documents/BigBrain/ipynb/thuhoach2/data/list1.csv'\n",
    "list2 = '/Users/chibangnguyen/Documents/BigBrain/ipynb/thuhoach2/data/list2.csv'\n",
    "list3 = '/Users/chibangnguyen/Documents/BigBrain/ipynb/thuhoach2/data/list3.csv'"
   ]
  },
  {
   "cell_type": "markdown",
   "metadata": {},
   "source": [
    "- Ta chọn dạng bài toán cho từng danh sách bằng cách chọn ``prec`` như sau:\n",
    "    - ``prec=0`` cho bài toán không đòi hỏi công việc tuần tự.\n",
    "    - ``prec=1`` cho bài toán đòi hỏi công việc có tuần tự."
   ]
  },
  {
   "cell_type": "code",
   "execution_count": null,
   "metadata": {},
   "outputs": [],
   "source": [
    "lists = [\n",
    "    pl.List(file_path=list1, prec=0),\n",
    "    pl.List(file_path=list2, prec=1),\n",
    "    pl.List(file_path=list3, prec=1),\n",
    "]"
   ]
  },
  {
   "cell_type": "markdown",
   "metadata": {},
   "source": [
    "Ta chạy chương trình bằng lệnh sau:"
   ]
  },
  {
   "cell_type": "code",
   "execution_count": 15,
   "metadata": {},
   "outputs": [
    {
     "name": "stdout",
     "output_type": "stream",
     "text": [
      "[['Job 14', 1.0, 0, 100, 0.9, 0.9], ['Job 2', 1.0, 0, 100, 0.84, 0.84], ['Job 12', 1.0, 0, 100, 0.39, 0.39], ['Job 13', 2.0, 0, 100, 0.57, 0.285], ['Job 4', 3.0, 0, 100, 0.79, 0.26333333333333336], ['Job 7', 4.0, 0, 100, 0.95, 0.2375], ['Job 16', 4.0, 0, 100, 0.7, 0.175], ['Job 17', 3.0, 0, 100, 0.95, 0.2357142857142857], ['Job 15', 1.0, 0, 100, 0.22, 0.22], ['Job 22', 4.0, 0, 100, 0.79, 0.1975], ['Job 23', 4.0, 0, 100, 0.24, 0.12875], ['Job 24', 1.0, 0, 100, 0.54, 0.17444444444444446], ['Job 25', 2.0, 0, 100, 0.81, 0.21636363636363634], ['Job 26', 2.0, 0, 100, 0.41, 0.205], ['Job 10', 2.0, 0, 100, 0.4, 0.2], ['Job 18', 4.0, 0, 100, 0.49, 0.1225], ['Job 19', 1.0, 0, 100, 0.13, 0.124], ['Job 20', 5.0, 0, 100, 0.94, 0.156], ['Job 21', 1.0, 0, 100, 0.57, 0.19363636363636363], ['Job 5', 1.0, 0, 100, 0.17, 0.17], ['Job 6', 3.0, 0, 100, 0.5, 0.16666666666666666], ['Job 1', 4.0, 0, 100, 0.65, 0.1625], ['Job 3', 3.0, 0, 100, 0.46, 0.15333333333333335], ['Job 11', 4.0, 0, 100, 0.55, 0.1375], ['Job 22', 4.0, 0, 100, 0.47, 0.1175], ['Job 27', 5.0, 0, 100, 0.22, 0.044], ['Job 28', 2.0, 0, 100, 0.29, 0.07285714285714286], ['Job 29', 5.0, 0, 100, 0.65, 0.09666666666666668], ['Job 30', 4.0, 0, 100, 0.69, 0.115625], ['Job 9', 5.0, 0, 100, 0.52, 0.10400000000000001], ['Job 8', 2.0, 0, 100, 0.14, 0.07]]\n"
     ]
    }
   ],
   "source": [
    "schedule = tl.optimal_list(lists, original, backup)\n",
    "print(schedule)"
   ]
  },
  {
   "cell_type": "markdown",
   "metadata": {},
   "source": [
    "Tương tự, giúp danh sách dễ theo dõi hơn, ta có thể dùng lệnh sau: "
   ]
  },
  {
   "cell_type": "code",
   "execution_count": 1,
   "metadata": {},
   "outputs": [
    {
     "ename": "NameError",
     "evalue": "name 'tl' is not defined",
     "output_type": "error",
     "traceback": [
      "\u001b[0;31m---------------------------------------------------------------------------\u001b[0m",
      "\u001b[0;31mNameError\u001b[0m                                 Traceback (most recent call last)",
      "Cell \u001b[0;32mIn[1], line 1\u001b[0m\n\u001b[0;32m----> 1\u001b[0m \u001b[38;5;28;01mfor\u001b[39;00m row \u001b[38;5;129;01min\u001b[39;00m \u001b[43mtl\u001b[49m\u001b[38;5;241m.\u001b[39moptimal_list(lists, original, backup):\n\u001b[1;32m      2\u001b[0m     \u001b[38;5;28mprint\u001b[39m(row)\n",
      "\u001b[0;31mNameError\u001b[0m: name 'tl' is not defined"
     ]
    }
   ],
   "source": [
    "for row in tl.optimal_list(lists, original, backup):\n",
    "    print(row)"
   ]
  },
  {
   "cell_type": "code",
   "execution_count": null,
   "metadata": {},
   "outputs": [],
   "source": []
  }
 ],
 "metadata": {
  "kernelspec": {
   "display_name": "Python 3 (ipykernel)",
   "language": "python",
   "name": "python3"
  },
  "language_info": {
   "codemirror_mode": {
    "name": "ipython",
    "version": 3
   },
   "file_extension": ".py",
   "mimetype": "text/x-python",
   "name": "python",
   "nbconvert_exporter": "python",
   "pygments_lexer": "ipython3",
   "version": "3.11.7"
  }
 },
 "nbformat": 4,
 "nbformat_minor": 4
}
